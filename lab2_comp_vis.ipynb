{
 "cells": [
  {
   "cell_type": "code",
   "execution_count": 104,
   "metadata": {},
   "outputs": [],
   "source": [
    "import json\n",
    "import pandas as pd\n",
    "import numpy as np\n",
    "import seaborn as sns\n",
    "import matplotlib.pyplot as plt\n",
    "import plotly.graph_objects as go"
   ]
  },
  {
   "cell_type": "markdown",
   "metadata": {},
   "source": [
    "#### Загружаем данные из файла json"
   ]
  },
  {
   "cell_type": "code",
   "execution_count": 105,
   "metadata": {},
   "outputs": [],
   "source": [
    "with open('train_01.json', 'r') as myfile:\n",
    "    data=myfile.read()\n",
    "obj = json.loads(data)\n",
    "\n"
   ]
  },
  {
   "cell_type": "code",
   "execution_count": 106,
   "metadata": {},
   "outputs": [
    {
     "data": {
      "text/plain": [
       "{'inside': [[0.7295200749361322, 0.7286337326606256],\n",
       "  [0.826505923560258, 0.9403158114766519],\n",
       "  [0.6023139955320228, 0.4890999051968531],\n",
       "  [0.7924301535257385, 0.9724603339895345],\n",
       "  [0.3739062132424882, 0.3807945141554343],\n",
       "  [0.5213825315815278, 0.7011647516840395],\n",
       "  [0.5799489554848042, 0.860210492806848],\n",
       "  [0.4472712889659769, 0.23208680582951224],\n",
       "  [0.8266928088733442, 0.9708616047497776],\n",
       "  [0.2096090384196102, 0.07948946448504302],\n",
       "  [0.33832612728389067, 0.4113630733104253],\n",
       "  [0.68383264433507, 0.9003136248995234],\n",
       "  [0.3974079484193441, 0.44643242592599985],\n",
       "  [0.26193673674112883, 0.20727182114712916]],\n",
       " 'outside': [[0.846590438950232, 0.12680486596335516],\n",
       "  [0.11671041192819076, 0.8523469688748586],\n",
       "  [0.8939436660435063, 0.20441969005621619],\n",
       "  [0.196515524259539, 0.7563403480339516],\n",
       "  [0.762462325724514, 0.17675381094088127],\n",
       "  [0.8646206065391742, 0.4289513713302239],\n",
       "  [0.7086382515784717, 0.1718070095596751],\n",
       "  [0.07308462517167347, 0.7068687883532849],\n",
       "  [0.7429722924973284, 0.19681071128913086],\n",
       "  [0.685062552324161, 0.011556200983953824],\n",
       "  [0.05599840395566957, 0.5147182562252324],\n",
       "  [0.9645548277207796, 0.4500437929854587],\n",
       "  [0.25076267013066156, 0.8845898320940508],\n",
       "  [0.12851981469617013, 0.7983431014344502],\n",
       "  [0.01817344753341743, 0.845385785214988]]}"
      ]
     },
     "execution_count": 106,
     "metadata": {},
     "output_type": "execute_result"
    }
   ],
   "source": [
    "obj"
   ]
  },
  {
   "cell_type": "code",
   "execution_count": 107,
   "metadata": {},
   "outputs": [],
   "source": [
    "df = pd.DataFrame(obj['inside'], columns = ['x', 'y'])\n",
    "df['k'] = -1\n",
    "for line in obj['outside']:\n",
    "    df = df.append({'x': line[0], 'y': line[1], 'k': 1}, ignore_index=True)\n",
    "    \n",
    "    "
   ]
  },
  {
   "cell_type": "code",
   "execution_count": 108,
   "metadata": {},
   "outputs": [
    {
     "data": {
      "text/html": [
       "<div>\n",
       "<style scoped>\n",
       "    .dataframe tbody tr th:only-of-type {\n",
       "        vertical-align: middle;\n",
       "    }\n",
       "\n",
       "    .dataframe tbody tr th {\n",
       "        vertical-align: top;\n",
       "    }\n",
       "\n",
       "    .dataframe thead th {\n",
       "        text-align: right;\n",
       "    }\n",
       "</style>\n",
       "<table border=\"1\" class=\"dataframe\">\n",
       "  <thead>\n",
       "    <tr style=\"text-align: right;\">\n",
       "      <th></th>\n",
       "      <th>x</th>\n",
       "      <th>y</th>\n",
       "      <th>k</th>\n",
       "    </tr>\n",
       "  </thead>\n",
       "  <tbody>\n",
       "    <tr>\n",
       "      <td>0</td>\n",
       "      <td>0.729520</td>\n",
       "      <td>0.728634</td>\n",
       "      <td>-1.0</td>\n",
       "    </tr>\n",
       "    <tr>\n",
       "      <td>1</td>\n",
       "      <td>0.826506</td>\n",
       "      <td>0.940316</td>\n",
       "      <td>-1.0</td>\n",
       "    </tr>\n",
       "    <tr>\n",
       "      <td>2</td>\n",
       "      <td>0.602314</td>\n",
       "      <td>0.489100</td>\n",
       "      <td>-1.0</td>\n",
       "    </tr>\n",
       "    <tr>\n",
       "      <td>3</td>\n",
       "      <td>0.792430</td>\n",
       "      <td>0.972460</td>\n",
       "      <td>-1.0</td>\n",
       "    </tr>\n",
       "    <tr>\n",
       "      <td>4</td>\n",
       "      <td>0.373906</td>\n",
       "      <td>0.380795</td>\n",
       "      <td>-1.0</td>\n",
       "    </tr>\n",
       "    <tr>\n",
       "      <td>5</td>\n",
       "      <td>0.521383</td>\n",
       "      <td>0.701165</td>\n",
       "      <td>-1.0</td>\n",
       "    </tr>\n",
       "    <tr>\n",
       "      <td>6</td>\n",
       "      <td>0.579949</td>\n",
       "      <td>0.860210</td>\n",
       "      <td>-1.0</td>\n",
       "    </tr>\n",
       "    <tr>\n",
       "      <td>7</td>\n",
       "      <td>0.447271</td>\n",
       "      <td>0.232087</td>\n",
       "      <td>-1.0</td>\n",
       "    </tr>\n",
       "    <tr>\n",
       "      <td>8</td>\n",
       "      <td>0.826693</td>\n",
       "      <td>0.970862</td>\n",
       "      <td>-1.0</td>\n",
       "    </tr>\n",
       "    <tr>\n",
       "      <td>9</td>\n",
       "      <td>0.209609</td>\n",
       "      <td>0.079489</td>\n",
       "      <td>-1.0</td>\n",
       "    </tr>\n",
       "    <tr>\n",
       "      <td>10</td>\n",
       "      <td>0.338326</td>\n",
       "      <td>0.411363</td>\n",
       "      <td>-1.0</td>\n",
       "    </tr>\n",
       "    <tr>\n",
       "      <td>11</td>\n",
       "      <td>0.683833</td>\n",
       "      <td>0.900314</td>\n",
       "      <td>-1.0</td>\n",
       "    </tr>\n",
       "    <tr>\n",
       "      <td>12</td>\n",
       "      <td>0.397408</td>\n",
       "      <td>0.446432</td>\n",
       "      <td>-1.0</td>\n",
       "    </tr>\n",
       "    <tr>\n",
       "      <td>13</td>\n",
       "      <td>0.261937</td>\n",
       "      <td>0.207272</td>\n",
       "      <td>-1.0</td>\n",
       "    </tr>\n",
       "    <tr>\n",
       "      <td>14</td>\n",
       "      <td>0.846590</td>\n",
       "      <td>0.126805</td>\n",
       "      <td>1.0</td>\n",
       "    </tr>\n",
       "    <tr>\n",
       "      <td>15</td>\n",
       "      <td>0.116710</td>\n",
       "      <td>0.852347</td>\n",
       "      <td>1.0</td>\n",
       "    </tr>\n",
       "    <tr>\n",
       "      <td>16</td>\n",
       "      <td>0.893944</td>\n",
       "      <td>0.204420</td>\n",
       "      <td>1.0</td>\n",
       "    </tr>\n",
       "    <tr>\n",
       "      <td>17</td>\n",
       "      <td>0.196516</td>\n",
       "      <td>0.756340</td>\n",
       "      <td>1.0</td>\n",
       "    </tr>\n",
       "    <tr>\n",
       "      <td>18</td>\n",
       "      <td>0.762462</td>\n",
       "      <td>0.176754</td>\n",
       "      <td>1.0</td>\n",
       "    </tr>\n",
       "    <tr>\n",
       "      <td>19</td>\n",
       "      <td>0.864621</td>\n",
       "      <td>0.428951</td>\n",
       "      <td>1.0</td>\n",
       "    </tr>\n",
       "    <tr>\n",
       "      <td>20</td>\n",
       "      <td>0.708638</td>\n",
       "      <td>0.171807</td>\n",
       "      <td>1.0</td>\n",
       "    </tr>\n",
       "    <tr>\n",
       "      <td>21</td>\n",
       "      <td>0.073085</td>\n",
       "      <td>0.706869</td>\n",
       "      <td>1.0</td>\n",
       "    </tr>\n",
       "    <tr>\n",
       "      <td>22</td>\n",
       "      <td>0.742972</td>\n",
       "      <td>0.196811</td>\n",
       "      <td>1.0</td>\n",
       "    </tr>\n",
       "    <tr>\n",
       "      <td>23</td>\n",
       "      <td>0.685063</td>\n",
       "      <td>0.011556</td>\n",
       "      <td>1.0</td>\n",
       "    </tr>\n",
       "    <tr>\n",
       "      <td>24</td>\n",
       "      <td>0.055998</td>\n",
       "      <td>0.514718</td>\n",
       "      <td>1.0</td>\n",
       "    </tr>\n",
       "    <tr>\n",
       "      <td>25</td>\n",
       "      <td>0.964555</td>\n",
       "      <td>0.450044</td>\n",
       "      <td>1.0</td>\n",
       "    </tr>\n",
       "    <tr>\n",
       "      <td>26</td>\n",
       "      <td>0.250763</td>\n",
       "      <td>0.884590</td>\n",
       "      <td>1.0</td>\n",
       "    </tr>\n",
       "    <tr>\n",
       "      <td>27</td>\n",
       "      <td>0.128520</td>\n",
       "      <td>0.798343</td>\n",
       "      <td>1.0</td>\n",
       "    </tr>\n",
       "    <tr>\n",
       "      <td>28</td>\n",
       "      <td>0.018173</td>\n",
       "      <td>0.845386</td>\n",
       "      <td>1.0</td>\n",
       "    </tr>\n",
       "  </tbody>\n",
       "</table>\n",
       "</div>"
      ],
      "text/plain": [
       "           x         y    k\n",
       "0   0.729520  0.728634 -1.0\n",
       "1   0.826506  0.940316 -1.0\n",
       "2   0.602314  0.489100 -1.0\n",
       "3   0.792430  0.972460 -1.0\n",
       "4   0.373906  0.380795 -1.0\n",
       "5   0.521383  0.701165 -1.0\n",
       "6   0.579949  0.860210 -1.0\n",
       "7   0.447271  0.232087 -1.0\n",
       "8   0.826693  0.970862 -1.0\n",
       "9   0.209609  0.079489 -1.0\n",
       "10  0.338326  0.411363 -1.0\n",
       "11  0.683833  0.900314 -1.0\n",
       "12  0.397408  0.446432 -1.0\n",
       "13  0.261937  0.207272 -1.0\n",
       "14  0.846590  0.126805  1.0\n",
       "15  0.116710  0.852347  1.0\n",
       "16  0.893944  0.204420  1.0\n",
       "17  0.196516  0.756340  1.0\n",
       "18  0.762462  0.176754  1.0\n",
       "19  0.864621  0.428951  1.0\n",
       "20  0.708638  0.171807  1.0\n",
       "21  0.073085  0.706869  1.0\n",
       "22  0.742972  0.196811  1.0\n",
       "23  0.685063  0.011556  1.0\n",
       "24  0.055998  0.514718  1.0\n",
       "25  0.964555  0.450044  1.0\n",
       "26  0.250763  0.884590  1.0\n",
       "27  0.128520  0.798343  1.0\n",
       "28  0.018173  0.845386  1.0"
      ]
     },
     "execution_count": 108,
     "metadata": {},
     "output_type": "execute_result"
    }
   ],
   "source": [
    "df"
   ]
  },
  {
   "cell_type": "markdown",
   "metadata": {},
   "source": [
    "#### Выводим график с нашими данными (зеленый - \"1\" , красный -\"-1\")"
   ]
  },
  {
   "cell_type": "code",
   "execution_count": 109,
   "metadata": {
    "scrolled": true
   },
   "outputs": [
    {
     "data": {
      "text/plain": [
       "<seaborn.axisgrid.PairGrid at 0x252eab24748>"
      ]
     },
     "execution_count": 109,
     "metadata": {},
     "output_type": "execute_result"
    },
    {
     "data": {
      "image/png": "[encoded data removed]",
      "text/plain": [
       "<Figure size 415.5x360 with 1 Axes>"
      ]
     },
     "metadata": {
      "needs_background": "light"
     },
     "output_type": "display_data"
    }
   ],
   "source": [
    "sns.pairplot(x_vars = [\"x\"],\n",
    "    y_vars = [\"y\"],\n",
    "    data = df,\n",
    "    hue = \"k\",\n",
    "    height = 5,\n",
    "    palette = {-1:\"red\", 1:\"green\"}\n",
    ")"
   ]
  },
  {
   "cell_type": "code",
   "execution_count": 110,
   "metadata": {},
   "outputs": [
    {
     "name": "stdout",
     "output_type": "stream",
     "text": [
      "(23, 3)\n",
      "(6, 3)\n"
     ]
    }
   ],
   "source": [
    "from sklearn.model_selection import train_test_split\n",
    "df_train, df_test = train_test_split(df, test_size=0.2, random_state=35)\n",
    "print(df_train.shape) \n",
    "print(df_test.shape)\n",
    "\n"
   ]
  },
  {
   "cell_type": "code",
   "execution_count": 111,
   "metadata": {},
   "outputs": [],
   "source": [
    "w1 = np.random.sample(6)\n",
    "\n",
    "x_train = np.array(df_train[['x', 'y']])\n",
    "k_train = np.array(df_train['k'])\n",
    "x_test = np.array(df_test[['x', 'y']])\n",
    "k_test = np.array(df_test['k'])\n"
   ]
  },
  {
   "cell_type": "code",
   "execution_count": 112,
   "metadata": {
    "scrolled": true
   },
   "outputs": [
    {
     "name": "stdout",
     "output_type": "stream",
     "text": [
      "6 [0.99782875 0.4292084  0.9518055  0.612598   0.29209845 0.11308416]\n"
     ]
    }
   ],
   "source": [
    "print(len(w1), w1)"
   ]
  },
  {
   "cell_type": "code",
   "execution_count": 113,
   "metadata": {},
   "outputs": [],
   "source": [
    "def get_x1(x):\n",
    "    return np.array([1, x[0], x[1], x[0]**2, x[1]**2, x[0]*x[1]])\n"
   ]
  },
  {
   "cell_type": "code",
   "execution_count": 114,
   "metadata": {},
   "outputs": [],
   "source": [
    "def predict(w, x, k):\n",
    "    activation = k*(np.dot(w, x))\n",
    "    if activation >= 0: return 1\n",
    "    else: return 0\n",
    "    \n",
    "    "
   ]
  },
  {
   "cell_type": "code",
   "execution_count": 115,
   "metadata": {},
   "outputs": [],
   "source": [
    "def change_w(w, x, k):\n",
    "    g = (np.dot(x, x) - k*np.dot(w, x))/np.dot(w-k*x, w-k*x)\n",
    "    return g*w + k*(1-g)*x\n",
    "\n"
   ]
  },
  {
   "cell_type": "code",
   "execution_count": 116,
   "metadata": {},
   "outputs": [],
   "source": [
    "def additional_element(w1):\n",
    "    sig = np.array([[w1[3], w1[5]], [w1[5], w1[4]]])\n",
    "    w, v = np.linalg.eig(sig)\n",
    "# w - собственные числа входной матрицы\n",
    "# v - собственные векторы входной матрицы\n",
    "    eig = []\n",
    "    for vector in v.T:\n",
    "            eig.append([0,0,0, vector[0]**2, vector[1]**2, 2*vector[1]*vector[0]])\n",
    "    eig = np.array(eig)\n",
    "    return eig\n",
    "\n"
   ]
  },
  {
   "cell_type": "code",
   "execution_count": 117,
   "metadata": {},
   "outputs": [],
   "source": [
    "def Kozinets_algorythm(df, x, k, w1):\n",
    "    for j in range (0, 200):\n",
    "        errors = 0\n",
    "        for i in range (len(df)):\n",
    "            x1 = get_x1(x[i])\n",
    "            if predict(w1, x1, k[i])==0:\n",
    "                errors = errors + 1\n",
    "                w1 = change_w(w1, x1, k[i])\n",
    "                \n",
    "        for l in additional_element(w1):\n",
    "            print(l)\n",
    "            if predict(w1, l, 1)==0:\n",
    "                errors = errors + 1\n",
    "                w1 = change_w(w1, l, 1)\n",
    "\n",
    "        print(\"Step=%d, Errors=%d\" % (j, errors))\n",
    "        if errors == 0: break\n",
    "            \n",
    "    print(w1)\n",
    "    return w1\n"
   ]
  },
  {
   "cell_type": "code",
   "execution_count": 118,
   "metadata": {},
   "outputs": [
    {
     "name": "stdout",
     "output_type": "stream",
     "text": [
      "[ 0.          0.          0.          0.7988544   0.2011456  -0.80171329]\n",
      "[0.         0.         0.         0.2011456  0.7988544  0.80171329]\n",
      "Step=0, Errors=11\n",
      "[ 0.          0.          0.          0.78135582  0.21864418 -0.82665325]\n",
      "[0.         0.         0.         0.21864418 0.78135582 0.82665325]\n",
      "Step=1, Errors=10\n",
      "[ 0.          0.          0.          0.7658094   0.2341906  -0.84698373]\n",
      "[0.         0.         0.         0.2341906  0.7658094  0.84698373]\n",
      "Step=2, Errors=11\n",
      "[ 0.          0.          0.          0.75849702  0.24150298 -0.85598899]\n",
      "[0.         0.         0.         0.24150298 0.75849702 0.85598899]\n",
      "Step=3, Errors=8\n",
      "[ 0.          0.          0.          0.74749385  0.25250615 -0.86889998]\n",
      "[0.         0.         0.         0.25250615 0.74749385 0.86889998]\n",
      "Step=4, Errors=8\n",
      "[ 0.          0.          0.          0.73427528  0.26572472 -0.88343668]\n",
      "[0.         0.         0.         0.26572472 0.73427528 0.88343668]\n",
      "Step=5, Errors=7\n",
      "[ 0.          0.          0.          0.73658556  0.26341444 -0.88097054]\n",
      "[0.         0.         0.         0.26341444 0.73658556 0.88097054]\n",
      "Step=6, Errors=5\n",
      "[ 0.          0.          0.          0.73510658  0.26489342 -0.88255288]\n",
      "[0.         0.         0.         0.26489342 0.73510658 0.88255288]\n",
      "Step=7, Errors=5\n",
      "[ 0.          0.          0.          0.72527992  0.27472008 -0.89274623]\n",
      "[0.         0.         0.         0.27472008 0.72527992 0.89274623]\n",
      "Step=8, Errors=4\n",
      "[ 0.          0.          0.          0.72970263  0.27029737 -0.88822678]\n",
      "[0.         0.         0.         0.27029737 0.72970263 0.88822678]\n",
      "Step=9, Errors=4\n",
      "[ 0.          0.          0.          0.7130152   0.2869848  -0.90470884]\n",
      "[0.         0.         0.         0.2869848  0.7130152  0.90470884]\n",
      "Step=10, Errors=4\n",
      "[ 0.          0.          0.          0.71754865  0.28245135 -0.90038344]\n",
      "[0.         0.         0.         0.28245135 0.71754865 0.90038344]\n",
      "Step=11, Errors=5\n",
      "[ 0.          0.          0.          0.72100657  0.27899343 -0.89700857]\n",
      "[0.         0.         0.         0.27899343 0.72100657 0.89700857]\n",
      "Step=12, Errors=4\n",
      "[ 0.          0.          0.          0.72880992  0.27119008 -0.88914795]\n",
      "[0.         0.         0.         0.27119008 0.72880992 0.88914795]\n",
      "Step=13, Errors=3\n",
      "[ 0.          0.          0.          0.72491116  0.27508884 -0.89311807]\n",
      "[0.         0.         0.         0.27508884 0.72491116 0.89311807]\n",
      "Step=14, Errors=3\n",
      "[ 0.          0.          0.          0.73281612  0.26718388 -0.88497831]\n",
      "[0.         0.         0.         0.26718388 0.73281612 0.88497831]\n",
      "Step=15, Errors=2\n",
      "[ 0.          0.          0.          0.73281612  0.26718388 -0.88497831]\n",
      "[0.         0.         0.         0.26718388 0.73281612 0.88497831]\n",
      "Step=16, Errors=0\n",
      "[ 0.00617713 -0.03533358 -0.00820351  0.04992158  0.01874298 -0.02962895]\n"
     ]
    }
   ],
   "source": [
    "w1 = Kozinets_algorythm(df_train, x_train, k_train, w1)"
   ]
  },
  {
   "cell_type": "code",
   "execution_count": 119,
   "metadata": {},
   "outputs": [],
   "source": [
    "def get_plot (df, w):\n",
    "    fig = plt.figure(figsize=(10,8))\n",
    "    g = sns.pairplot(x_vars = [\"x\"],\n",
    "        y_vars = [\"y\"],\n",
    "        data = df,\n",
    "        hue = \"k\",\n",
    "        height = 5,\n",
    "        palette = {-1:\"red\", 1:\"green\"}\n",
    "    )\n",
    "\n",
    "    x_plot = np.linspace(0, 1, 100)\n",
    "    y_plot = np.linspace(0, 1, 100)\n",
    "\n",
    "    x_plot,y_plot = np.meshgrid(x_plot,y_plot)\n",
    "\n",
    "    Z = w1[0]+x_plot*w1[1] + y_plot*w1[2]+w1[3]*x_plot**2 + w1[4]*y_plot**2 + w1[5]*x_plot*y_plot\n",
    "\n",
    "    plt.contour(x_plot,y_plot,(Z),[0])\n",
    "    \n",
    "    "
   ]
  },
  {
   "cell_type": "code",
   "execution_count": 120,
   "metadata": {},
   "outputs": [
    {
     "data": {
      "text/plain": [
       "<Figure size 720x576 with 0 Axes>"
      ]
     },
     "metadata": {},
     "output_type": "display_data"
    },
    {
     "data": {
      "image/png": "[encoded data removed]",
      "text/plain": [
       "<Figure size 415.5x360 with 1 Axes>"
      ]
     },
     "metadata": {
      "needs_background": "light"
     },
     "output_type": "display_data"
    }
   ],
   "source": [
    "get_plot(df_train, w1)"
   ]
  },
  {
   "cell_type": "code",
   "execution_count": 121,
   "metadata": {},
   "outputs": [
    {
     "data": {
      "text/plain": [
       "<Figure size 720x576 with 0 Axes>"
      ]
     },
     "metadata": {},
     "output_type": "display_data"
    },
    {
     "data": {
      "image/png": "[encoded data removed]",
      "text/plain": [
       "<Figure size 415.5x360 with 1 Axes>"
      ]
     },
     "metadata": {
      "needs_background": "light"
     },
     "output_type": "display_data"
    }
   ],
   "source": [
    "get_plot(df_test, w1)"
   ]
  },
  {
   "cell_type": "code",
   "execution_count": null,
   "metadata": {},
   "outputs": [],
   "source": []
  }
 ],
 "metadata": {
  "kernelspec": {
   "display_name": "Python 3",
   "language": "python",
   "name": "python3"
  },
  "language_info": {
   "codemirror_mode": {
    "name": "ipython",
    "version": 3
   },
   "file_extension": ".py",
   "mimetype": "text/x-python",
   "name": "python",
   "nbconvert_exporter": "python",
   "pygments_lexer": "ipython3",
   "version": "3.7.4"
  }
 },
 "nbformat": 4,
 "nbformat_minor": 4
}
