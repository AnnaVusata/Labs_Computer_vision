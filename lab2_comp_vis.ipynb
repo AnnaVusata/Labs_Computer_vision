{
 "cells": [
  {
   "cell_type": "code",
   "execution_count": 33,
   "metadata": {},
   "outputs": [],
   "source": [
    "import json\n",
    "import pandas as pd\n",
    "import numpy as np\n",
    "import seaborn as sns\n",
    "import matplotlib.pyplot as plt\n",
    "import plotly.graph_objects as go\n",
    "from sklearn.model_selection import train_test_split\n",
    "import doctest"
   ]
  },
  {
   "cell_type": "markdown",
   "metadata": {},
   "source": [
    "#### Загружаем данные из файла json"
   ]
  },
  {
   "cell_type": "code",
   "execution_count": 34,
   "metadata": {},
   "outputs": [],
   "source": [
    "with open('train_01.json', 'r') as myfile:\n",
    "    data=myfile.read()\n",
    "obj = json.loads(data)\n",
    "\n"
   ]
  },
  {
   "cell_type": "code",
   "execution_count": 35,
   "metadata": {},
   "outputs": [
    {
     "data": {
      "text/plain": [
       "{'inside': [[0.7295200749361322, 0.7286337326606256],\n",
       "  [0.826505923560258, 0.9403158114766519],\n",
       "  [0.6023139955320228, 0.4890999051968531],\n",
       "  [0.7924301535257385, 0.9724603339895345],\n",
       "  [0.3739062132424882, 0.3807945141554343],\n",
       "  [0.5213825315815278, 0.7011647516840395],\n",
       "  [0.5799489554848042, 0.860210492806848],\n",
       "  [0.4472712889659769, 0.23208680582951224],\n",
       "  [0.8266928088733442, 0.9708616047497776],\n",
       "  [0.2096090384196102, 0.07948946448504302],\n",
       "  [0.33832612728389067, 0.4113630733104253],\n",
       "  [0.68383264433507, 0.9003136248995234],\n",
       "  [0.3974079484193441, 0.44643242592599985],\n",
       "  [0.26193673674112883, 0.20727182114712916]],\n",
       " 'outside': [[0.846590438950232, 0.12680486596335516],\n",
       "  [0.11671041192819076, 0.8523469688748586],\n",
       "  [0.8939436660435063, 0.20441969005621619],\n",
       "  [0.196515524259539, 0.7563403480339516],\n",
       "  [0.762462325724514, 0.17675381094088127],\n",
       "  [0.8646206065391742, 0.4289513713302239],\n",
       "  [0.7086382515784717, 0.1718070095596751],\n",
       "  [0.07308462517167347, 0.7068687883532849],\n",
       "  [0.7429722924973284, 0.19681071128913086],\n",
       "  [0.685062552324161, 0.011556200983953824],\n",
       "  [0.05599840395566957, 0.5147182562252324],\n",
       "  [0.9645548277207796, 0.4500437929854587],\n",
       "  [0.25076267013066156, 0.8845898320940508],\n",
       "  [0.12851981469617013, 0.7983431014344502],\n",
       "  [0.01817344753341743, 0.845385785214988]]}"
      ]
     },
     "execution_count": 35,
     "metadata": {},
     "output_type": "execute_result"
    }
   ],
   "source": [
    "obj"
   ]
  },
  {
   "cell_type": "code",
   "execution_count": 36,
   "metadata": {},
   "outputs": [],
   "source": [
    "df = pd.DataFrame(obj['inside'], columns = ['x', 'y'])\n",
    "df['k'] = -1\n",
    "for line in obj['outside']:\n",
    "    df = df.append({'x': line[0], 'y': line[1], 'k': 1}, ignore_index=True)\n",
    "    \n",
    "    "
   ]
  },
  {
   "cell_type": "code",
   "execution_count": 37,
   "metadata": {},
   "outputs": [
    {
     "data": {
      "text/html": [
       "<div>\n",
       "<style scoped>\n",
       "    .dataframe tbody tr th:only-of-type {\n",
       "        vertical-align: middle;\n",
       "    }\n",
       "\n",
       "    .dataframe tbody tr th {\n",
       "        vertical-align: top;\n",
       "    }\n",
       "\n",
       "    .dataframe thead th {\n",
       "        text-align: right;\n",
       "    }\n",
       "</style>\n",
       "<table border=\"1\" class=\"dataframe\">\n",
       "  <thead>\n",
       "    <tr style=\"text-align: right;\">\n",
       "      <th></th>\n",
       "      <th>x</th>\n",
       "      <th>y</th>\n",
       "      <th>k</th>\n",
       "    </tr>\n",
       "  </thead>\n",
       "  <tbody>\n",
       "    <tr>\n",
       "      <th>0</th>\n",
       "      <td>0.729520</td>\n",
       "      <td>0.728634</td>\n",
       "      <td>-1.0</td>\n",
       "    </tr>\n",
       "    <tr>\n",
       "      <th>1</th>\n",
       "      <td>0.826506</td>\n",
       "      <td>0.940316</td>\n",
       "      <td>-1.0</td>\n",
       "    </tr>\n",
       "    <tr>\n",
       "      <th>2</th>\n",
       "      <td>0.602314</td>\n",
       "      <td>0.489100</td>\n",
       "      <td>-1.0</td>\n",
       "    </tr>\n",
       "    <tr>\n",
       "      <th>3</th>\n",
       "      <td>0.792430</td>\n",
       "      <td>0.972460</td>\n",
       "      <td>-1.0</td>\n",
       "    </tr>\n",
       "    <tr>\n",
       "      <th>4</th>\n",
       "      <td>0.373906</td>\n",
       "      <td>0.380795</td>\n",
       "      <td>-1.0</td>\n",
       "    </tr>\n",
       "    <tr>\n",
       "      <th>5</th>\n",
       "      <td>0.521383</td>\n",
       "      <td>0.701165</td>\n",
       "      <td>-1.0</td>\n",
       "    </tr>\n",
       "    <tr>\n",
       "      <th>6</th>\n",
       "      <td>0.579949</td>\n",
       "      <td>0.860210</td>\n",
       "      <td>-1.0</td>\n",
       "    </tr>\n",
       "    <tr>\n",
       "      <th>7</th>\n",
       "      <td>0.447271</td>\n",
       "      <td>0.232087</td>\n",
       "      <td>-1.0</td>\n",
       "    </tr>\n",
       "    <tr>\n",
       "      <th>8</th>\n",
       "      <td>0.826693</td>\n",
       "      <td>0.970862</td>\n",
       "      <td>-1.0</td>\n",
       "    </tr>\n",
       "    <tr>\n",
       "      <th>9</th>\n",
       "      <td>0.209609</td>\n",
       "      <td>0.079489</td>\n",
       "      <td>-1.0</td>\n",
       "    </tr>\n",
       "    <tr>\n",
       "      <th>10</th>\n",
       "      <td>0.338326</td>\n",
       "      <td>0.411363</td>\n",
       "      <td>-1.0</td>\n",
       "    </tr>\n",
       "    <tr>\n",
       "      <th>11</th>\n",
       "      <td>0.683833</td>\n",
       "      <td>0.900314</td>\n",
       "      <td>-1.0</td>\n",
       "    </tr>\n",
       "    <tr>\n",
       "      <th>12</th>\n",
       "      <td>0.397408</td>\n",
       "      <td>0.446432</td>\n",
       "      <td>-1.0</td>\n",
       "    </tr>\n",
       "    <tr>\n",
       "      <th>13</th>\n",
       "      <td>0.261937</td>\n",
       "      <td>0.207272</td>\n",
       "      <td>-1.0</td>\n",
       "    </tr>\n",
       "    <tr>\n",
       "      <th>14</th>\n",
       "      <td>0.846590</td>\n",
       "      <td>0.126805</td>\n",
       "      <td>1.0</td>\n",
       "    </tr>\n",
       "    <tr>\n",
       "      <th>15</th>\n",
       "      <td>0.116710</td>\n",
       "      <td>0.852347</td>\n",
       "      <td>1.0</td>\n",
       "    </tr>\n",
       "    <tr>\n",
       "      <th>16</th>\n",
       "      <td>0.893944</td>\n",
       "      <td>0.204420</td>\n",
       "      <td>1.0</td>\n",
       "    </tr>\n",
       "    <tr>\n",
       "      <th>17</th>\n",
       "      <td>0.196516</td>\n",
       "      <td>0.756340</td>\n",
       "      <td>1.0</td>\n",
       "    </tr>\n",
       "    <tr>\n",
       "      <th>18</th>\n",
       "      <td>0.762462</td>\n",
       "      <td>0.176754</td>\n",
       "      <td>1.0</td>\n",
       "    </tr>\n",
       "    <tr>\n",
       "      <th>19</th>\n",
       "      <td>0.864621</td>\n",
       "      <td>0.428951</td>\n",
       "      <td>1.0</td>\n",
       "    </tr>\n",
       "    <tr>\n",
       "      <th>20</th>\n",
       "      <td>0.708638</td>\n",
       "      <td>0.171807</td>\n",
       "      <td>1.0</td>\n",
       "    </tr>\n",
       "    <tr>\n",
       "      <th>21</th>\n",
       "      <td>0.073085</td>\n",
       "      <td>0.706869</td>\n",
       "      <td>1.0</td>\n",
       "    </tr>\n",
       "    <tr>\n",
       "      <th>22</th>\n",
       "      <td>0.742972</td>\n",
       "      <td>0.196811</td>\n",
       "      <td>1.0</td>\n",
       "    </tr>\n",
       "    <tr>\n",
       "      <th>23</th>\n",
       "      <td>0.685063</td>\n",
       "      <td>0.011556</td>\n",
       "      <td>1.0</td>\n",
       "    </tr>\n",
       "    <tr>\n",
       "      <th>24</th>\n",
       "      <td>0.055998</td>\n",
       "      <td>0.514718</td>\n",
       "      <td>1.0</td>\n",
       "    </tr>\n",
       "    <tr>\n",
       "      <th>25</th>\n",
       "      <td>0.964555</td>\n",
       "      <td>0.450044</td>\n",
       "      <td>1.0</td>\n",
       "    </tr>\n",
       "    <tr>\n",
       "      <th>26</th>\n",
       "      <td>0.250763</td>\n",
       "      <td>0.884590</td>\n",
       "      <td>1.0</td>\n",
       "    </tr>\n",
       "    <tr>\n",
       "      <th>27</th>\n",
       "      <td>0.128520</td>\n",
       "      <td>0.798343</td>\n",
       "      <td>1.0</td>\n",
       "    </tr>\n",
       "    <tr>\n",
       "      <th>28</th>\n",
       "      <td>0.018173</td>\n",
       "      <td>0.845386</td>\n",
       "      <td>1.0</td>\n",
       "    </tr>\n",
       "  </tbody>\n",
       "</table>\n",
       "</div>"
      ],
      "text/plain": [
       "           x         y    k\n",
       "0   0.729520  0.728634 -1.0\n",
       "1   0.826506  0.940316 -1.0\n",
       "2   0.602314  0.489100 -1.0\n",
       "3   0.792430  0.972460 -1.0\n",
       "4   0.373906  0.380795 -1.0\n",
       "5   0.521383  0.701165 -1.0\n",
       "6   0.579949  0.860210 -1.0\n",
       "7   0.447271  0.232087 -1.0\n",
       "8   0.826693  0.970862 -1.0\n",
       "9   0.209609  0.079489 -1.0\n",
       "10  0.338326  0.411363 -1.0\n",
       "11  0.683833  0.900314 -1.0\n",
       "12  0.397408  0.446432 -1.0\n",
       "13  0.261937  0.207272 -1.0\n",
       "14  0.846590  0.126805  1.0\n",
       "15  0.116710  0.852347  1.0\n",
       "16  0.893944  0.204420  1.0\n",
       "17  0.196516  0.756340  1.0\n",
       "18  0.762462  0.176754  1.0\n",
       "19  0.864621  0.428951  1.0\n",
       "20  0.708638  0.171807  1.0\n",
       "21  0.073085  0.706869  1.0\n",
       "22  0.742972  0.196811  1.0\n",
       "23  0.685063  0.011556  1.0\n",
       "24  0.055998  0.514718  1.0\n",
       "25  0.964555  0.450044  1.0\n",
       "26  0.250763  0.884590  1.0\n",
       "27  0.128520  0.798343  1.0\n",
       "28  0.018173  0.845386  1.0"
      ]
     },
     "execution_count": 37,
     "metadata": {},
     "output_type": "execute_result"
    }
   ],
   "source": [
    "df"
   ]
  },
  {
   "cell_type": "markdown",
   "metadata": {},
   "source": [
    "#### Выводим график с нашими данными (зеленый - \"1\" , красный -\"-1\")"
   ]
  },
  {
   "cell_type": "code",
   "execution_count": 38,
   "metadata": {},
   "outputs": [
    {
     "data": {
      "text/plain": [
       "<seaborn.axisgrid.PairGrid at 0x2155c596f48>"
      ]
     },
     "execution_count": 38,
     "metadata": {},
     "output_type": "execute_result"
    },
    {
     "data": {
      "image/png": "[encoded data removed]",
      "text/plain": [
       "<Figure size 415.625x360 with 1 Axes>"
      ]
     },
     "metadata": {
      "needs_background": "light"
     },
     "output_type": "display_data"
    }
   ],
   "source": [
    "sns.pairplot(x_vars = [\"x\"],\n",
    "    y_vars = [\"y\"],\n",
    "    data = df,\n",
    "    hue = \"k\",\n",
    "    height = 5,\n",
    "    palette = {-1:\"red\", 1:\"green\"}\n",
    ")"
   ]
  },
  {
   "cell_type": "code",
   "execution_count": 39,
   "metadata": {},
   "outputs": [
    {
     "name": "stdout",
     "output_type": "stream",
     "text": [
      "(23, 3)\n",
      "(6, 3)\n"
     ]
    }
   ],
   "source": [
    "df_train, df_test = train_test_split(df, test_size=0.2, random_state=35)\n",
    "print(df_train.shape) \n",
    "print(df_test.shape)"
   ]
  },
  {
   "cell_type": "code",
   "execution_count": 40,
   "metadata": {},
   "outputs": [],
   "source": [
    "w1 = np.random.sample(6)\n",
    "\n",
    "x_train = np.array(df_train[['x', 'y']])\n",
    "k_train = np.array(df_train['k'])\n",
    "x_test = np.array(df_test[['x', 'y']])\n",
    "k_test = np.array(df_test['k'])\n"
   ]
  },
  {
   "cell_type": "code",
   "execution_count": 41,
   "metadata": {
    "scrolled": true
   },
   "outputs": [
    {
     "name": "stdout",
     "output_type": "stream",
     "text": [
      "6 [0.55404087 0.56205625 0.61894161 0.67549702 0.72796851 0.65318846]\n"
     ]
    }
   ],
   "source": [
    "print(len(w1), w1)"
   ]
  },
  {
   "cell_type": "code",
   "execution_count": 42,
   "metadata": {},
   "outputs": [],
   "source": [
    "def get_x1(x):\n",
    "    return np.array([1, x[0], x[1], x[0]**2, x[1]**2, x[0]*x[1]])\n"
   ]
  },
  {
   "cell_type": "code",
   "execution_count": 43,
   "metadata": {},
   "outputs": [],
   "source": [
    "def predict(w, x, k):\n",
    "    \"\"\"\n",
    "    >>> predict([0, 0, 0, 0, 0, 1], [0, 0, 0, -1, -1, -1], 1)\n",
    "    0\n",
    "    >>> predict([0, 0, 0, 0, 0, 1], [0, 0, 0, 1, 1, 1], 1)\n",
    "    1\n",
    "    >>> predict([0, 0, 0, 0, 0, 1], [0, 0, 0, 1, 1, 1], -1)\n",
    "    0\n",
    "    \"\"\"\n",
    "    activation = k*(np.dot(w, x))\n",
    "    if activation >= 0: return 1\n",
    "    else: return 0\n",
    "    \n",
    "    "
   ]
  },
  {
   "cell_type": "code",
   "execution_count": 44,
   "metadata": {},
   "outputs": [],
   "source": [
    "def change_w(w, x, k):\n",
    "    \"\"\"\n",
    "    >>> change_w(np.array([1, 1, 1, 1, 1, 1]), np.array([0, 0, 0, 1, 1, 1]), 1)\n",
    "    array([0., 0., 0., 1., 1., 1.])\n",
    "    \"\"\"\n",
    "    g = (np.dot(x, x) - k*np.dot(w, x))/np.dot(w-k*x, w-k*x)\n",
    "    return g*w + k*(1-g)*x\n",
    "\n"
   ]
  },
  {
   "cell_type": "code",
   "execution_count": 45,
   "metadata": {},
   "outputs": [],
   "source": [
    "def additional_element(w1):\n",
    "    sig = np.array([[w1[3], w1[5]], [w1[5], w1[4]]])\n",
    "    w, v = np.linalg.eig(sig)\n",
    "# w - собственные числа входной матрицы\n",
    "# v - собственные векторы входной матрицы\n",
    "    eig = []\n",
    "    for vector in v.T:\n",
    "            eig.append([0,0,0, vector[0]**2, vector[1]**2, 2*vector[1]*vector[0]])\n",
    "    eig = np.array(eig)\n",
    "    return eig\n",
    "\n"
   ]
  },
  {
   "cell_type": "code",
   "execution_count": 46,
   "metadata": {},
   "outputs": [],
   "source": [
    "def Kozinets_algorythm(df, x, k, w1):\n",
    "   \n",
    "    for j in range (0, 200):\n",
    "        errors = 0\n",
    "        for i in range (len(df)):\n",
    "            x1 = get_x1(x[i])\n",
    "            if predict(w1, x1, k[i])==0:\n",
    "                errors = errors + 1\n",
    "                w1 = change_w(w1, x1, k[i])\n",
    "                \n",
    "        for l in additional_element(w1):\n",
    "            print(l)\n",
    "            if predict(w1, l, 1)==0:\n",
    "                errors = errors + 1\n",
    "                w1 = change_w(w1, l, 1)\n",
    "\n",
    "        print(\"Step=%d, Errors=%d\" % (j, errors))\n",
    "        if errors == 0: break\n",
    "            \n",
    "    print(w1)\n",
    "    return w1\n"
   ]
  },
  {
   "cell_type": "code",
   "execution_count": 47,
   "metadata": {},
   "outputs": [
    {
     "name": "stdout",
     "output_type": "stream",
     "text": [
      "[0.         0.         0.         0.64177707 0.35822293 0.95895623]\n",
      "[ 0.          0.          0.          0.35822293  0.64177707 -0.95895623]\n",
      "Step=0, Errors=9\n",
      "[ 0.          0.          0.          0.61633483  0.38366517 -0.97255582]\n",
      "[0.         0.         0.         0.38366517 0.61633483 0.97255582]\n",
      "Step=1, Errors=10\n",
      "[ 0.          0.          0.          0.54683069  0.45316931 -0.99560411]\n",
      "[0.         0.         0.         0.45316931 0.54683069 0.99560411]\n",
      "Step=2, Errors=9\n",
      "[ 0.          0.          0.          0.52805133  0.47194867 -0.99842501]\n",
      "[0.         0.         0.         0.47194867 0.52805133 0.99842501]\n",
      "Step=3, Errors=4\n",
      "[ 0.          0.          0.          0.53144892  0.46855108 -0.99801997]\n",
      "[0.         0.         0.         0.46855108 0.53144892 0.99801997]\n",
      "Step=4, Errors=6\n",
      "[ 0.          0.          0.          0.52559673  0.47440327 -0.99868876]\n",
      "[0.         0.         0.         0.47440327 0.52559673 0.99868876]\n",
      "Step=5, Errors=5\n",
      "[ 0.          0.          0.          0.53124597  0.46875403 -0.99804547]\n",
      "[0.         0.         0.         0.46875403 0.53124597 0.99804547]\n",
      "Step=6, Errors=4\n",
      "[ 0.          0.          0.          0.53933404  0.46066596 -0.99690086]\n",
      "[0.         0.         0.         0.46066596 0.53933404 0.99690086]\n",
      "Step=7, Errors=5\n",
      "[ 0.          0.          0.          0.54427815  0.45572185 -0.99607117]\n",
      "[0.         0.         0.         0.45572185 0.54427815 0.99607117]\n",
      "Step=8, Errors=4\n",
      "[ 0.          0.          0.          0.55026216  0.44973784 -0.9949346 ]\n",
      "[0.         0.         0.         0.44973784 0.55026216 0.9949346 ]\n",
      "Step=9, Errors=5\n",
      "[ 0.          0.          0.          0.5466549   0.4533451  -0.99563712]\n",
      "[0.         0.         0.         0.4533451  0.5466549  0.99563712]\n",
      "Step=10, Errors=3\n",
      "[ 0.          0.          0.          0.56091554  0.43908446 -0.99255085]\n",
      "[0.         0.         0.         0.43908446 0.56091554 0.99255085]\n",
      "Step=11, Errors=2\n",
      "[ 0.          0.          0.          0.57145884  0.42854116 -0.98973458]\n",
      "[0.         0.         0.         0.42854116 0.57145884 0.98973458]\n",
      "Step=12, Errors=3\n",
      "[ 0.          0.          0.          0.5677314   0.4322686  -0.99078243]\n",
      "[0.         0.         0.         0.4322686  0.5677314  0.99078243]\n",
      "Step=13, Errors=3\n",
      "[ 0.          0.          0.          0.5748093   0.4251907  -0.98874378]\n",
      "[0.         0.         0.         0.4251907  0.5748093  0.98874378]\n",
      "Step=14, Errors=3\n",
      "[ 0.          0.          0.          0.58260453  0.41739547 -0.98625857]\n",
      "[0.         0.         0.         0.41739547 0.58260453 0.98625857]\n",
      "Step=15, Errors=5\n",
      "[ 0.          0.          0.          0.58799582  0.41200418 -0.98439166]\n",
      "[0.         0.         0.         0.41200418 0.58799582 0.98439166]\n",
      "Step=16, Errors=4\n",
      "[ 0.          0.          0.          0.58799582  0.41200418 -0.98439166]\n",
      "[0.         0.         0.         0.41200418 0.58799582 0.98439166]\n",
      "Step=17, Errors=0\n",
      "[ 0.0035093  -0.01921021 -0.01429837  0.03534348  0.02509149 -0.02867175]\n"
     ]
    }
   ],
   "source": [
    "w1 = Kozinets_algorythm(df_train, x_train, k_train, w1)"
   ]
  },
  {
   "cell_type": "code",
   "execution_count": 48,
   "metadata": {},
   "outputs": [],
   "source": [
    "def get_plot (df, w):\n",
    "    fig = plt.figure(figsize=(10,8))\n",
    "    g = sns.pairplot(x_vars = [\"x\"],\n",
    "        y_vars = [\"y\"],\n",
    "        data = df,\n",
    "        hue = \"k\",\n",
    "        height = 5,\n",
    "        palette = {-1:\"red\", 1:\"green\"}\n",
    "    )\n",
    "\n",
    "    x_plot = np.linspace(0, 1, 100)\n",
    "    y_plot = np.linspace(0, 1, 100)\n",
    "\n",
    "    x_plot,y_plot = np.meshgrid(x_plot,y_plot)\n",
    "\n",
    "    Z = w1[0]+x_plot*w1[1] + y_plot*w1[2]+w1[3]*x_plot**2 + w1[4]*y_plot**2 + w1[5]*x_plot*y_plot\n",
    "\n",
    "    plt.contour(x_plot,y_plot,(Z),[0])\n",
    "    \n",
    "    "
   ]
  },
  {
   "cell_type": "code",
   "execution_count": 49,
   "metadata": {},
   "outputs": [
    {
     "data": {
      "text/plain": [
       "<Figure size 720x576 with 0 Axes>"
      ]
     },
     "metadata": {},
     "output_type": "display_data"
    },
    {
     "data": {
      "image/png": "[encoded data removed]",
      "text/plain": [
       "<Figure size 415.625x360 with 1 Axes>"
      ]
     },
     "metadata": {
      "needs_background": "light"
     },
     "output_type": "display_data"
    }
   ],
   "source": [
    "get_plot(df_train, w1)"
   ]
  },
  {
   "cell_type": "code",
   "execution_count": 50,
   "metadata": {},
   "outputs": [
    {
     "data": {
      "text/plain": [
       "<Figure size 720x576 with 0 Axes>"
      ]
     },
     "metadata": {},
     "output_type": "display_data"
    },
    {
     "data": {
      "image/png": "[encoded data removed]",
      "text/plain": [
       "<Figure size 415.625x360 with 1 Axes>"
      ]
     },
     "metadata": {
      "needs_background": "light"
     },
     "output_type": "display_data"
    }
   ],
   "source": [
    "get_plot(df_test, w1)"
   ]
  },
  {
   "cell_type": "code",
   "execution_count": 51,
   "metadata": {},
   "outputs": [
    {
     "data": {
      "text/plain": [
       "TestResults(failed=0, attempted=4)"
      ]
     },
     "execution_count": 51,
     "metadata": {},
     "output_type": "execute_result"
    }
   ],
   "source": [
    "doctest.testmod()"
   ]
  },
  {
   "cell_type": "code",
   "execution_count": null,
   "metadata": {},
   "outputs": [],
   "source": []
  },
  {
   "cell_type": "code",
   "execution_count": null,
   "metadata": {},
   "outputs": [],
   "source": []
  }
 ],
 "metadata": {
  "kernelspec": {
   "display_name": "Python 3",
   "language": "python",
   "name": "python3"
  },
  "language_info": {
   "codemirror_mode": {
    "name": "ipython",
    "version": 3
   },
   "file_extension": ".py",
   "mimetype": "text/x-python",
   "name": "python",
   "nbconvert_exporter": "python",
   "pygments_lexer": "ipython3",
   "version": "3.7.6"
  }
 },
 "nbformat": 4,
 "nbformat_minor": 4
}
